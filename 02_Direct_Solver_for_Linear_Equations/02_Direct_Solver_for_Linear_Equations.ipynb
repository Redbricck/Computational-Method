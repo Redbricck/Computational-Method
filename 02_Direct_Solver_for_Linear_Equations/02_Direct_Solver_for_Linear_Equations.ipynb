{
  "nbformat": 4,
  "nbformat_minor": 0,
  "metadata": {
    "colab": {
      "provenance": [],
      "authorship_tag": "ABX9TyP9q/7Z5jdjuueogKshhnDy",
      "include_colab_link": true
    },
    "kernelspec": {
      "name": "python3",
      "display_name": "Python 3"
    },
    "language_info": {
      "name": "python"
    }
  },
  "cells": [
    {
      "cell_type": "markdown",
      "metadata": {
        "id": "view-in-github",
        "colab_type": "text"
      },
      "source": [
        "<a href=\"https://colab.research.google.com/github/Redbricck/Computational-Method/blob/main/02_Direct_Solver_for_Linear_Equations.ipynb\" target=\"_parent\"><img src=\"https://colab.research.google.com/assets/colab-badge.svg\" alt=\"Open In Colab\"/></a>"
      ]
    },
    {
      "cell_type": "code",
      "execution_count": 2,
      "metadata": {
        "id": "kpW_PyxDRDTU"
      },
      "outputs": [],
      "source": [
        "import numpy as np"
      ]
    },
    {
      "cell_type": "markdown",
      "source": [
        "## Gauss elimination"
      ],
      "metadata": {
        "id": "ggERn9gGRjxo"
      }
    },
    {
      "cell_type": "code",
      "source": [
        "a = np.array([[1, 2, 1, 0],\n",
        "        [2, 2, 3, 3],\n",
        "        [-1, -3, 0, 2]], dtype=float)"
      ],
      "metadata": {
        "id": "dXpTGNMAUoaj"
      },
      "execution_count": 3,
      "outputs": []
    },
    {
      "cell_type": "code",
      "source": [
        "def elimination(matrix):\n",
        "  lines = np.shape(matrix)[0]\n",
        "  for i in range(1, lines):\n",
        "    for j in range(i, lines):\n",
        "      index = matrix[j][i-1] / matrix[i-1][i-1]\n",
        "      matrix[j] = matrix[j] - matrix[i-1]*index\n",
        "  return matrix"
      ],
      "metadata": {
        "id": "C5j4Cv88RP4D"
      },
      "execution_count": 6,
      "outputs": []
    },
    {
      "cell_type": "code",
      "source": [
        "def inverse_solve(matrix):\n",
        "  lines = np.shape(matrix)[0]\n",
        "  columns = np.shape(matrix)[1]\n",
        "  X = np.zeros([lines])\n",
        "  index = 0\n",
        "  X[lines-1] = matrix[lines-1][columns-1] / matrix[lines-1][columns-2]\n",
        "  for i in range(lines-2, 0-1, -1):\n",
        "    for j in range(lines-1, i, -1):\n",
        "      index += matrix[i][j]*X[j] # 将待求未知量后的系数求出并相加\n",
        "\n",
        "    X[i] = (matrix[i][columns-1]-index) / (matrix[i][i])\n",
        "    index = 0\n",
        "  return X\n"
      ],
      "metadata": {
        "id": "H7csq_9bgjOA"
      },
      "execution_count": 30,
      "outputs": []
    },
    {
      "cell_type": "code",
      "source": [
        "a_eliminated = elimination(a)"
      ],
      "metadata": {
        "id": "0bq91x7GRQRw"
      },
      "execution_count": 31,
      "outputs": []
    },
    {
      "cell_type": "code",
      "source": [
        "print(a_eliminated)"
      ],
      "metadata": {
        "colab": {
          "base_uri": "https://localhost:8080/"
        },
        "id": "HU7YxdAXRQp8",
        "outputId": "f32c47f2-eeea-4599-964b-e5716b3f7eb8"
      },
      "execution_count": 32,
      "outputs": [
        {
          "output_type": "stream",
          "name": "stdout",
          "text": [
            "[[ 1.   2.   1.   0. ]\n",
            " [ 0.  -2.   1.   3. ]\n",
            " [ 0.   0.   0.5  0.5]]\n"
          ]
        }
      ]
    },
    {
      "cell_type": "code",
      "source": [
        "X = inverse_solve(a_eliminated)"
      ],
      "metadata": {
        "id": "5MekPO5KRQ9C"
      },
      "execution_count": 33,
      "outputs": []
    },
    {
      "cell_type": "code",
      "source": [
        "for i in range(len(X)):\n",
        "  print(f\"x{i+1}:{X[i]}\")"
      ],
      "metadata": {
        "id": "pKz8hRdbRRIt",
        "colab": {
          "base_uri": "https://localhost:8080/"
        },
        "outputId": "e23f9739-f7c3-4a45-a206-e908a9639fa3"
      },
      "execution_count": 37,
      "outputs": [
        {
          "output_type": "stream",
          "name": "stdout",
          "text": [
            "x1:1.0\n",
            "x2:-1.0\n",
            "x3:1.0\n"
          ]
        }
      ]
    }
  ]
}